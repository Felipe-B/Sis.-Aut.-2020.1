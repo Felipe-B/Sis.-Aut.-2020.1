{
 "cells": [
  {
   "cell_type": "code",
   "execution_count": 27,
   "metadata": {},
   "outputs": [
    {
     "name": "stdout",
     "output_type": "stream",
     "text": [
      "Digite seu Nome:Felipe\n",
      "Digite sua Idade:23\n",
      "Seu Nome é: Felipe\n",
      "Sua Idade é: 23\n",
      "Faltam 77 anos para completar os 100 anos\n",
      "Data: 12 / 2 / 2020\n",
      "Hora: 18 : 34 : 1\n"
     ]
    }
   ],
   "source": [
    "import datetime\n",
    "\n",
    "d = datetime.datetime.today()\n",
    "\n",
    "nome = input(\"Digite seu Nome:\")\n",
    "idade = int (input(\"Digite sua Idade:\"))\n",
    "print(\"Seu Nome é:\",nome)\n",
    "print(\"Sua Idade é:\",idade)\n",
    "IdadeF = 100 - idade\n",
    "print(\"Faltam\",IdadeF,\"anos para completar os 100 anos\")\n",
    "print(\"Data:\",d.day,\"/\",d.month,\"/\",d.year)\n",
    "print(\"Hora:\",d.hour,\":\",d.minute,\":\",d.second)"
   ]
  },
  {
   "cell_type": "code",
   "execution_count": null,
   "metadata": {},
   "outputs": [],
   "source": []
  }
 ],
 "metadata": {
  "kernelspec": {
   "display_name": "Python 3",
   "language": "python",
   "name": "python3"
  },
  "language_info": {
   "codemirror_mode": {
    "name": "ipython",
    "version": 3
   },
   "file_extension": ".py",
   "mimetype": "text/x-python",
   "name": "python",
   "nbconvert_exporter": "python",
   "pygments_lexer": "ipython3",
   "version": "3.7.4"
  }
 },
 "nbformat": 4,
 "nbformat_minor": 2
}
